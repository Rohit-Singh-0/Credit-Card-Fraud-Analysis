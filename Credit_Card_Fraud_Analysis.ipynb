{
 "cells": [
  {
   "cell_type": "markdown",
   "id": "587206fc",
   "metadata": {},
   "source": [
    "# 🧠 Credit Card Fraud Detection Project "
   ]
  },
  {
   "cell_type": "markdown",
   "id": "104d9ac7-becf-4833-855f-d2b30fa53db0",
   "metadata": {},
   "source": [
    "# Step 1: Import Libraries"
   ]
  },
  {
   "cell_type": "code",
   "execution_count": 28,
   "id": "2acccb79",
   "metadata": {},
   "outputs": [],
   "source": [
    "import pandas as pd\n",
    "import numpy as np\n",
    "import matplotlib.pyplot as plt\n",
    "import seaborn as sns\n",
    "from sklearn.model_selection import train_test_split\n",
    "from sklearn.preprocessing import RobustScaler\n",
    "from sklearn.linear_model import LogisticRegression\n",
    "from sklearn.ensemble import RandomForestClassifier\n",
    "from sklearn.metrics import classification_report, confusion_matrix, roc_auc_score\n",
    "from imblearn.over_sampling import SMOTE\n",
    "import warnings\n",
    "warnings.filterwarnings('ignore')\n"
   ]
  },
  {
   "cell_type": "markdown",
   "id": "61d19820-4606-40bd-904a-2d44d59d417b",
   "metadata": {},
   "source": [
    "# Step 2: Load Dataset"
   ]
  },
  {
   "cell_type": "code",
   "execution_count": 19,
   "id": "de0b33b7",
   "metadata": {},
   "outputs": [
    {
     "name": "stdout",
     "output_type": "stream",
     "text": [
      "Dataset shape: (284807, 31)\n",
      "Class\n",
      "0    0.998273\n",
      "1    0.001727\n",
      "Name: proportion, dtype: float64\n"
     ]
    }
   ],
   "source": [
    "df = pd.read_csv('creditcard.csv/creditcard.csv')  # Make sure this file is in the same directory\n",
    "print(\"Dataset shape:\", df.shape)\n",
    "print(df['Class'].value_counts(normalize=True))"
   ]
  },
  {
   "cell_type": "markdown",
   "id": "fefca038-420f-47b1-9225-f3561e22a6cd",
   "metadata": {},
   "source": [
    "# Step 3: Visualize Class Distribution"
   ]
  },
  {
   "cell_type": "code",
   "execution_count": 20,
   "id": "16f9c6eb",
   "metadata": {},
   "outputs": [
    {
     "data": {
      "image/png": "[encoded data removed]",
      "text/plain": [
       "<Figure size 640x480 with 1 Axes>"
      ]
     },
     "metadata": {},
     "output_type": "display_data"
    }
   ],
   "source": [
    "sns.countplot(data=df, x='Class')\n",
    "plt.title(\"Class Distribution (0: Normal, 1: Fraud)\")\n",
    "plt.show()"
   ]
  },
  {
   "cell_type": "markdown",
   "id": "ff560f46-5558-40af-b8b7-f4204ebbc6a2",
   "metadata": {},
   "source": [
    "# Step 4: Feature Engineering"
   ]
  },
  {
   "cell_type": "code",
   "execution_count": 21,
   "id": "7298a19c",
   "metadata": {},
   "outputs": [],
   "source": [
    "df['Hour'] = df['Time'] // 3600\n",
    "df['Amount_log'] = np.log1p(df['Amount'])\n",
    "df['Is_Weekend'] = ((df['Time'] // 86400) % 7 >= 5).astype(int)\n",
    "df['Is_Night'] = ((df['Hour'] <= 6) | (df['Hour'] >= 23)).astype(int)"
   ]
  },
  {
   "cell_type": "markdown",
   "id": "023a5637-3a14-4cb0-9599-a91eda71b43c",
   "metadata": {},
   "source": [
    "# Step 5: Preprocess and Scale"
   ]
  },
  {
   "cell_type": "code",
   "execution_count": 22,
   "id": "d7427aba",
   "metadata": {},
   "outputs": [],
   "source": [
    "features = df.drop(['Class', 'Time'], axis=1)\n",
    "target = df['Class']\n",
    "\n",
    "X_train, X_test, y_train, y_test = train_test_split(features, target, test_size=0.2, stratify=target, random_state=42)\n",
    "\n",
    "scaler = RobustScaler()\n",
    "X_train_scaled = scaler.fit_transform(X_train)\n",
    "X_test_scaled = scaler.transform(X_test)"
   ]
  },
  {
   "cell_type": "markdown",
   "id": "772b25d9-d5f6-4dad-ae33-106df62d44ff",
   "metadata": {},
   "source": [
    "# Step 6: Balance the Data with SMOTE"
   ]
  },
  {
   "cell_type": "code",
   "execution_count": 23,
   "id": "726618c5",
   "metadata": {},
   "outputs": [
    {
     "name": "stdout",
     "output_type": "stream",
     "text": [
      "After SMOTE: [227451  22745]\n"
     ]
    }
   ],
   "source": [
    "smote = SMOTE(random_state=42, sampling_strategy=0.1)\n",
    "X_train_bal, y_train_bal = smote.fit_resample(X_train_scaled, y_train)\n",
    "\n",
    "print(\"After SMOTE:\", np.bincount(y_train_bal))"
   ]
  },
  {
   "cell_type": "markdown",
   "id": "15dfffd8-e3e6-445c-a432-65f5aa156ec7",
   "metadata": {},
   "source": [
    "# Step 7: Logistic Regression"
   ]
  },
  {
   "cell_type": "code",
   "execution_count": 24,
   "id": "6660bc30",
   "metadata": {},
   "outputs": [
    {
     "name": "stdout",
     "output_type": "stream",
     "text": [
      "              precision    recall  f1-score   support\n",
      "\n",
      "           0       1.00      0.97      0.99     56864\n",
      "           1       0.06      0.91      0.11        98\n",
      "\n",
      "    accuracy                           0.97     56962\n",
      "   macro avg       0.53      0.94      0.55     56962\n",
      "weighted avg       1.00      0.97      0.99     56962\n",
      "\n",
      "AUC: 0.9733102899291399\n"
     ]
    }
   ],
   "source": [
    "lr = LogisticRegression(class_weight='balanced', max_iter=1000)\n",
    "lr.fit(X_train_bal, y_train_bal)\n",
    "\n",
    "y_pred = lr.predict(X_test_scaled)\n",
    "print(classification_report(y_test, y_pred))\n",
    "print(\"AUC:\", roc_auc_score(y_test, lr.predict_proba(X_test_scaled)[:, 1]))"
   ]
  },
  {
   "cell_type": "markdown",
   "id": "b33bd68d-6902-403b-9895-66963976198c",
   "metadata": {},
   "source": [
    "# Step 8: Random Forest"
   ]
  },
  {
   "cell_type": "code",
   "execution_count": 25,
   "id": "09ef2b02",
   "metadata": {},
   "outputs": [
    {
     "name": "stdout",
     "output_type": "stream",
     "text": [
      "              precision    recall  f1-score   support\n",
      "\n",
      "           0       1.00      1.00      1.00     56864\n",
      "           1       0.44      0.86      0.58        98\n",
      "\n",
      "    accuracy                           1.00     56962\n",
      "   macro avg       0.72      0.93      0.79     56962\n",
      "weighted avg       1.00      1.00      1.00     56962\n",
      "\n",
      "AUC: 0.9826490774981911\n"
     ]
    }
   ],
   "source": [
    "rf = RandomForestClassifier(n_estimators=100, max_depth=10, class_weight='balanced', random_state=42)\n",
    "rf.fit(X_train_bal, y_train_bal)\n",
    "\n",
    "y_pred_rf = rf.predict(X_test_scaled)\n",
    "print(classification_report(y_test, y_pred_rf))\n",
    "print(\"AUC:\", roc_auc_score(y_test, rf.predict_proba(X_test_scaled)[:, 1]))"
   ]
  },
  {
   "cell_type": "markdown",
   "id": "42d42262-3bed-44df-9505-698209b35817",
   "metadata": {},
   "source": [
    "# Step 9: Feature Importances"
   ]
  },
  {
   "cell_type": "code",
   "execution_count": 26,
   "id": "a2ca3c67",
   "metadata": {},
   "outputs": [
    {
     "data": {
      "image/png": "[encoded data removed]",
      "text/plain": [
       "<Figure size 640x480 with 1 Axes>"
      ]
     },
     "metadata": {},
     "output_type": "display_data"
    }
   ],
   "source": [
    "importances = pd.Series(rf.feature_importances_, index=features.columns)\n",
    "importances.sort_values(ascending=False).head(10).plot(kind='barh')\n",
    "plt.title(\"Top 10 Important Features\")\n",
    "plt.show()"
   ]
  },
  {
   "cell_type": "markdown",
   "id": "171599dd-aec2-4685-8641-4cf9ca4fc02b",
   "metadata": {},
   "source": [
    "# Step 10: Risk Scoring"
   ]
  },
  {
   "cell_type": "code",
   "execution_count": 27,
   "id": "05118c32",
   "metadata": {},
   "outputs": [
    {
     "name": "stdout",
     "output_type": "stream",
     "text": [
      "Risk_Category\n",
      "Low         52881\n",
      "Medium       3526\n",
      "High          443\n",
      "Critical      111\n",
      "Name: count, dtype: int64\n"
     ]
    },
    {
     "data": {
      "text/html": [
       "<div>\n",
       "<style scoped>\n",
       "    .dataframe tbody tr th:only-of-type {\n",
       "        vertical-align: middle;\n",
       "    }\n",
       "\n",
       "    .dataframe tbody tr th {\n",
       "        vertical-align: top;\n",
       "    }\n",
       "\n",
       "    .dataframe thead th {\n",
       "        text-align: right;\n",
       "    }\n",
       "</style>\n",
       "<table border=\"1\" class=\"dataframe\">\n",
       "  <thead>\n",
       "    <tr style=\"text-align: right;\">\n",
       "      <th></th>\n",
       "      <th>Risk_Score</th>\n",
       "      <th>Risk_Category</th>\n",
       "      <th>Prediction</th>\n",
       "      <th>Actual</th>\n",
       "    </tr>\n",
       "  </thead>\n",
       "  <tbody>\n",
       "    <tr>\n",
       "      <th>0</th>\n",
       "      <td>0.007587</td>\n",
       "      <td>Low</td>\n",
       "      <td>0</td>\n",
       "      <td>0</td>\n",
       "    </tr>\n",
       "    <tr>\n",
       "      <th>1</th>\n",
       "      <td>0.011109</td>\n",
       "      <td>Low</td>\n",
       "      <td>0</td>\n",
       "      <td>0</td>\n",
       "    </tr>\n",
       "    <tr>\n",
       "      <th>2</th>\n",
       "      <td>0.105579</td>\n",
       "      <td>Medium</td>\n",
       "      <td>0</td>\n",
       "      <td>0</td>\n",
       "    </tr>\n",
       "    <tr>\n",
       "      <th>3</th>\n",
       "      <td>0.003985</td>\n",
       "      <td>Low</td>\n",
       "      <td>0</td>\n",
       "      <td>0</td>\n",
       "    </tr>\n",
       "    <tr>\n",
       "      <th>4</th>\n",
       "      <td>0.257878</td>\n",
       "      <td>Medium</td>\n",
       "      <td>0</td>\n",
       "      <td>0</td>\n",
       "    </tr>\n",
       "  </tbody>\n",
       "</table>\n",
       "</div>"
      ],
      "text/plain": [
       "   Risk_Score Risk_Category  Prediction  Actual\n",
       "0    0.007587           Low           0       0\n",
       "1    0.011109           Low           0       0\n",
       "2    0.105579        Medium           0       0\n",
       "3    0.003985           Low           0       0\n",
       "4    0.257878        Medium           0       0"
      ]
     },
     "execution_count": 27,
     "metadata": {},
     "output_type": "execute_result"
    }
   ],
   "source": [
    "probs = rf.predict_proba(X_test_scaled)[:, 1]\n",
    "risk_bins = pd.cut(probs, bins=[0, 0.1, 0.3, 0.7, 1.0], labels=['Low', 'Medium', 'High', 'Critical'])\n",
    "\n",
    "risk_df = pd.DataFrame({\n",
    "    'Risk_Score': probs,\n",
    "    'Risk_Category': risk_bins,\n",
    "    'Prediction': rf.predict(X_test_scaled),\n",
    "    'Actual': y_test.reset_index(drop=True)\n",
    "})\n",
    "\n",
    "print(risk_df['Risk_Category'].value_counts())\n",
    "risk_df.head()"
   ]
  }
 ],
 "metadata": {
  "kernelspec": {
   "display_name": "Python 3 (ipykernel)",
   "language": "python",
   "name": "python3"
  },
  "language_info": {
   "codemirror_mode": {
    "name": "ipython",
    "version": 3
   },
   "file_extension": ".py",
   "mimetype": "text/x-python",
   "name": "python",
   "nbconvert_exporter": "python",
   "pygments_lexer": "ipython3",
   "version": "3.11.4"
  }
 },
 "nbformat": 4,
 "nbformat_minor": 5
}
